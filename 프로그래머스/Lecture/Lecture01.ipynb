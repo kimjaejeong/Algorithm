{
 "cells": [
  {
   "cell_type": "code",
   "execution_count": null,
   "metadata": {},
   "outputs": [],
   "source": [
    "import time\n",
    "\n",
    "n = int(input(\"Number of elements: \"))\n",
    "haystack = [k for k in range(n)]\n",
    "\n",
    "print(\"Searching for the maximum value...\")\n",
    "\n",
    "ts = time.time()\n",
    "maximum = max(haystack)\n",
    "elapsed = time.time() - ts\n",
    "print(\"Elapsed time = \", elapsed)"
   ]
  }
 ],
 "metadata": {
  "kernelspec": {
   "display_name": "Python 3",
   "language": "python",
   "name": "python3"
  },
  "language_info": {
   "codemirror_mode": {
    "name": "ipython",
    "version": 3
   },
   "file_extension": ".py",
   "mimetype": "text/x-python",
   "name": "python",
   "nbconvert_exporter": "python",
   "pygments_lexer": "ipython3",
   "version": "3.6.8"
  }
 },
 "nbformat": 4,
 "nbformat_minor": 4
}
