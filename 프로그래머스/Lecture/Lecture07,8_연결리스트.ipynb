{
 "cells": [
  {
   "cell_type": "markdown",
   "metadata": {},
   "source": [
    "## 연결 리스트(Linked List)\n",
    "\n",
    "- 추상적 자료구조\n",
    "    - Data\n",
    "        - ex) 정수, 문자열, 레코드\n",
    "    - A set of operations\n",
    "        - 삽입, 삭제, 순회\n",
    "        - 정렬, 탐색\n",
    "- 자료 구조 정의\n",
    "    - Node\n",
    "        - Data\n",
    "        - Link(next)"
   ]
  },
  {
   "cell_type": "code",
   "execution_count": 1,
   "metadata": {},
   "outputs": [],
   "source": [
    "class Node:\n",
    "    def __init__(self, item):\n",
    "        self.data = item\n",
    "        self.next = None\n",
    "\n",
    "class LinkedList:\n",
    "    def __init__(self):\n",
    "        self.nodeCount = 0\n",
    "        self.head = None\n",
    "        self.tail = None"
   ]
  },
  {
   "cell_type": "markdown",
   "metadata": {},
   "source": [
    "### 연산 정의\n",
    "1. 특정 원소 참조(k번째)\n",
    "2. 리스트 순회\n",
    "3. 길이 얻어내기\n",
    "4. 원소 삽입\n",
    "5. 원소 삭제\n",
    "6. 두 리스트 합치기"
   ]
  },
  {
   "cell_type": "markdown",
   "metadata": {},
   "source": [
    "### 1. 특정 원소 참조"
   ]
  },
  {
   "cell_type": "code",
   "execution_count": null,
   "metadata": {},
   "outputs": [],
   "source": [
    "def getA(self, pos):\n",
    "    if pos <= 0 or pos > self.nodeCount:\n",
    "        return None\n",
    "    i = 1\n",
    "    curr = self.head\n",
    "    while i < pos:\n",
    "        curr = curr.next\n",
    "        i += 1"
   ]
  },
  {
   "cell_type": "markdown",
   "metadata": {},
   "source": [
    "### 2. 리스트 순회"
   ]
  },
  {
   "cell_type": "code",
   "execution_count": 4,
   "metadata": {},
   "outputs": [],
   "source": [
    "class Node:\n",
    "    def __init__(self, item):\n",
    "        self.data = item\n",
    "        self.next = None\n",
    "class LinkedList:\n",
    "    def __init__(self):\n",
    "        self.nodeCount = 0\n",
    "        self.head = None\n",
    "        self.tail = None\n",
    "    def getAt(self, pos): # pos는 위치\n",
    "        if pos < 1 or pos > self.nodeCount:\n",
    "            return None\n",
    "        i = 1\n",
    "        curr = self.head\n",
    "        while i < pos: \n",
    "            curr = curr.next\n",
    "            i += 1\n",
    "        return curr\n",
    "    def traverse(self):\n",
    "        curr = self.head\n",
    "        arr = []\n",
    "        while curr != None:\n",
    "            arr.append(curr.data)\n",
    "            curr = curr.next\n",
    "        return arr"
   ]
  },
  {
   "cell_type": "markdown",
   "metadata": {},
   "source": [
    "### 3. 길이 얻어내기는 쉬움\n",
    "\n",
    "### 4. 원소의 삽입\n",
    "- 삽입하려는 위치가 리스트 맨 앞일 때\n",
    "    - prev 없음\n",
    "    - Head 조정 필요\n",
    "- 삽입하려는 위치가 리스트 맨 끝일 때\n",
    "    - Tail 조정 필요\n",
    "- 연결 리스트 원소 삽입의 복잡도\n",
    "    - 맨 앞에 삽입하는 경우: O(1)\n",
    "    - 중간에 삽입하는 경우: O(n)\n",
    "    - 맨 끝에 삽입하는 경우: O(1) # tail node를 갖고 있기 때문에 1이 될 수 있는 것임."
   ]
  },
  {
   "cell_type": "code",
   "execution_count": 7,
   "metadata": {},
   "outputs": [],
   "source": [
    "def insertAt(self, pos, newNode):\n",
    "    if pos < 1 or pos > self.nodeCount + 1:\n",
    "        return False\n",
    "    \n",
    "    if pos == 1:  # node가 한개만 있으면\n",
    "        newNode.next = self.head\n",
    "        self.head = newNode\n",
    "    else:\n",
    "        if pos == self.nodeCount + 1:\n",
    "            prev = self.tail\n",
    "        else:\n",
    "            prev = self.getAt(pos - 1)\n",
    "        newNode.next = prev.next\n",
    "        prev.next = newNode\n",
    "    \n",
    "    if pos == self.nodeCount + 1:\n",
    "        self.tail = newNode\n",
    "    \n",
    "    self.nodeCount += 1\n",
    "    return True"
   ]
  },
  {
   "cell_type": "markdown",
   "metadata": {},
   "source": [
    "### 5. 원소의 삭제\n",
    "- 연습문제 코드"
   ]
  },
  {
   "cell_type": "markdown",
   "metadata": {},
   "source": [
    "### 6. 두 리스트의 연결\n"
   ]
  },
  {
   "cell_type": "code",
   "execution_count": 8,
   "metadata": {},
   "outputs": [],
   "source": [
    "def concat(self,L):\n",
    "    self.tail.next = L.head\n",
    "    if L.tail:\n",
    "        self.tail = L.tail\n",
    "    self.nodeCount += L.nodeCount"
   ]
  }
 ],
 "metadata": {
  "kernelspec": {
   "display_name": "Python 3",
   "language": "python",
   "name": "python3"
  },
  "language_info": {
   "codemirror_mode": {
    "name": "ipython",
    "version": 3
   },
   "file_extension": ".py",
   "mimetype": "text/x-python",
   "name": "python",
   "nbconvert_exporter": "python",
   "pygments_lexer": "ipython3",
   "version": "3.6.8"
  }
 },
 "nbformat": 4,
 "nbformat_minor": 4
}
