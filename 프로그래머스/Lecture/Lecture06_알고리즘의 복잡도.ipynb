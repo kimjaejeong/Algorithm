{
 "cells": [
  {
   "cell_type": "markdown",
   "metadata": {},
   "source": [
    "### 평균 시간 복잡도\n",
    "- 임의의 입력 패턴을 가정했을 때 소요되는 시간의 평균\n",
    "\n",
    "### 최악 시간 복잡도\n",
    "- 가장 긴 시간을 소요하게 만드는 입력에 따라 소요되는 시간\n",
    "\n",
    "### Big-O Notation\n",
    "- 점근 표기법의 하나\n",
    "    - 어떤 함수의 증가 양상을 다른 함수와의 비교로 표현\n",
    "    - O(log n), O(n), O(n^2), O(2^n)"
   ]
  },
  {
   "cell_type": "markdown",
   "metadata": {},
   "source": [
    "### 선형 시간 알고리즘 - O(n)\n",
    "    - 선형 탐색 알고리즘\n",
    "\n",
    "### 로그 시가 알고리즘 - O(log n)\n",
    "    - n 개의 크기 순으로 절렬된 수에서 특정 값을 찾기 위해\n",
    "    - 이진 탐색 알고리즘 적용\n",
    "\n",
    "### 이차 시간 알고리즘 - O(n^2)\n",
    "    - 삽입 정렬\n",
    "    - Best case: O(n)\n",
    "    - Worst case: O(n^2)\n",
    "\n",
    "### 보다 나은 (낮은) 복잡도를 가지는 정렬 알고리즘\n",
    "    - 병합 정렬(merge sort)\n",
    "    - 정렬된 데이터를 두 묶음씩 한데 합친다.\n",
    "\n",
    "### 꽤나 복잡한 문제\n",
    "    - 유명한 예: 배낭 문제"
   ]
  },
  {
   "cell_type": "code",
   "execution_count": null,
   "metadata": {},
   "outputs": [],
   "source": []
  }
 ],
 "metadata": {
  "kernelspec": {
   "display_name": "Python 3",
   "language": "python",
   "name": "python3"
  },
  "language_info": {
   "codemirror_mode": {
    "name": "ipython",
    "version": 3
   },
   "file_extension": ".py",
   "mimetype": "text/x-python",
   "name": "python",
   "nbconvert_exporter": "python",
   "pygments_lexer": "ipython3",
   "version": "3.6.8"
  }
 },
 "nbformat": 4,
 "nbformat_minor": 4
}
