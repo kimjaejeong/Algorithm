{
 "cells": [
  {
   "cell_type": "markdown",
   "metadata": {},
   "source": [
    "### 양방향 연결 리스트\n",
    "- 한 쪽으로만 링크를 연결하지 말고, 양쪽으로 연결!"
   ]
  },
  {
   "cell_type": "code",
   "execution_count": null,
   "metadata": {},
   "outputs": [],
   "source": [
    "class Node:\n",
    "    def __init__(self,item):\n",
    "        self.data = item\n",
    "        self.prev = None\n",
    "        self.next = None\n",
    "class DoublyLinkedList:\n",
    "    def __init__(self, item):\n",
    "        self.nodeCount = 0\n",
    "        self.head = Node(None)\n",
    "        self.tail = Node(None)\n",
    "        self.head.prev = None\n",
    "        self.head.next = self.tail\n",
    "        self.tail.prev = self.head\n",
    "        self.tail.next = None\n",
    "    \n",
    "    def insertAfter(self, prev, newNode):\n",
    "        next = prev.next\n",
    "        newNode.prev = prev\n",
    "        newNode.next = next\n",
    "        prev.next = newNode\n",
    "        next.prev = newNode\n",
    "        self.nodeCount += 1\n",
    "        return True\n",
    "    \n",
    "    # 특정 원소 얻어내기\n",
    "    def getAt(self, pos):\n",
    "        if pos < 0 or pos > self.nodeCount:\n",
    "            return None\n",
    "        i = 0\n",
    "        curr = self.head\n",
    "        while i < pos:\n",
    "            curr = curr.next\n",
    "            i += 1\n",
    "        return curr"
   ]
  }
 ],
 "metadata": {
  "kernelspec": {
   "display_name": "Python 3",
   "language": "python",
   "name": "python3"
  },
  "language_info": {
   "codemirror_mode": {
    "name": "ipython",
    "version": 3
   },
   "file_extension": ".py",
   "mimetype": "text/x-python",
   "name": "python",
   "nbconvert_exporter": "python",
   "pygments_lexer": "ipython3",
   "version": "3.6.8"
  }
 },
 "nbformat": 4,
 "nbformat_minor": 4
}
