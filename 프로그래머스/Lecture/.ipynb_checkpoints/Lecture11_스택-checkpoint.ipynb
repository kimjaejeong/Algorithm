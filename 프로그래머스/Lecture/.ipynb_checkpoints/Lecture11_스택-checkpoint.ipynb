{
 "cells": [
  {
   "cell_type": "markdown",
   "metadata": {},
   "source": [
    "## 스택\n",
    "- 자료를 보관할 수 있는 선형 구조\n",
    "- LIFO 구조"
   ]
  },
  {
   "cell_type": "markdown",
   "metadata": {},
   "source": [
    "## 스택의 추상적 자료구조 구현\n",
    "1. 배열을 이용하여 구현\n",
    "- python 리스트와 메서드들을 이용\n",
    "2. 연결리스트를 이용하여 구현\n",
    "- 양방향 연결 리스트 이용"
   ]
  },
  {
   "cell_type": "markdown",
   "metadata": {},
   "source": [
    "### 연산의 정의\n",
    "- size() - 현재 스택에 들어 있는 데이터 원소의 수를 구함\n",
    "- isEmpty() - 현재 스택이 비어 있는지를 판단\n",
    "- push(X) - 데이터 원소 x를 스택에 추가\n",
    "- pop() - 스택의 맨 위에 저장된 데이터 원소를 제거(또한, 반환)\n",
    "- peek() - 스택의 맨 위에 저장된 데이터 원소를 반환(제거하지 않음)"
   ]
  },
  {
   "cell_type": "markdown",
   "metadata": {},
   "source": [
    "### 배열로 구현한 스택"
   ]
  },
  {
   "cell_type": "code",
   "execution_count": 2,
   "metadata": {},
   "outputs": [],
   "source": [
    "class ArrayStack:\n",
    "    def __init__(self):  # 빈 스택 초기화\n",
    "        self.data = []\n",
    "    def size(self): # 스택의 크기를 리턴\n",
    "        return len(self.data)\n",
    "    def isEmpty(self):  # 스택이 비어 있는지 판단\n",
    "        return self.size() == 0\n",
    "    def push(self, item): # 데이터 원소를 추가\n",
    "        self.data.append(item)\n",
    "    def pop(self):  # 데이터 원소를 삭제(리턴)\n",
    "        return self.data.pop()\n",
    "    def peek(self): # 스택의 꼭대기 원소 반환\n",
    "        return self.data[-1]"
   ]
  },
  {
   "cell_type": "code",
   "execution_count": 4,
   "metadata": {},
   "outputs": [
    {
     "data": {
      "text/plain": [
       "['__class__',\n",
       " '__delattr__',\n",
       " '__dict__',\n",
       " '__dir__',\n",
       " '__doc__',\n",
       " '__eq__',\n",
       " '__format__',\n",
       " '__ge__',\n",
       " '__getattribute__',\n",
       " '__gt__',\n",
       " '__hash__',\n",
       " '__init__',\n",
       " '__init_subclass__',\n",
       " '__le__',\n",
       " '__lt__',\n",
       " '__module__',\n",
       " '__ne__',\n",
       " '__new__',\n",
       " '__reduce__',\n",
       " '__reduce_ex__',\n",
       " '__repr__',\n",
       " '__setattr__',\n",
       " '__sizeof__',\n",
       " '__str__',\n",
       " '__subclasshook__',\n",
       " '__weakref__',\n",
       " 'isEmpty',\n",
       " 'items',\n",
       " 'peek',\n",
       " 'pop',\n",
       " 'push',\n",
       " 'size']"
      ]
     },
     "execution_count": 4,
     "metadata": {},
     "output_type": "execute_result"
    }
   ],
   "source": [
    "from pythonds.basic.stack import Stack\n",
    "\n",
    "S = Stack()\n",
    "dir(S)"
   ]
  },
  {
   "cell_type": "markdown",
   "metadata": {},
   "source": [
    "### 예제"
   ]
  },
  {
   "cell_type": "code",
   "execution_count": 30,
   "metadata": {},
   "outputs": [],
   "source": [
    "class ArrayStack:\n",
    "\n",
    "    def __init__(self):\n",
    "        self.data = []\n",
    "\n",
    "    def size(self):\n",
    "        return len(self.data)\n",
    "\n",
    "    def isEmpty(self):\n",
    "        return self.size() == 0\n",
    "\n",
    "    def push(self, item):\n",
    "        self.data.append(item)\n",
    "\n",
    "    def pop(self):\n",
    "        return self.data.pop()\n",
    "\n",
    "    def peek(self):\n",
    "        return self.data[-1]\n",
    "\n",
    "\n",
    "def solution(expr):\n",
    "    match = {\n",
    "        ')': '(',\n",
    "        '}': '{',\n",
    "        ']': '['\n",
    "    }\n",
    "    S = ArrayStack()\n",
    "    for c in expr:\n",
    "        if c in '({[':\n",
    "            S.push(c)\n",
    "        elif c in match:\n",
    "            \n",
    "            if S.isEmpty():\n",
    "                return False\n",
    "            else:\n",
    "                t = S.pop()\n",
    "                print(t)\n",
    "                if t != match[c]:\n",
    "                    print(c)\n",
    "                    print(match[c])\n",
    "                    return False\n",
    "    return S.isEmpty()"
   ]
  },
  {
   "cell_type": "code",
   "execution_count": 31,
   "metadata": {},
   "outputs": [
    {
     "name": "stdout",
     "output_type": "stream",
     "text": [
      "(\n",
      "[\n"
     ]
    },
    {
     "data": {
      "text/plain": [
       "True"
      ]
     },
     "execution_count": 31,
     "metadata": {},
     "output_type": "execute_result"
    }
   ],
   "source": [
    "solution(\"[(A + B) * C]\")"
   ]
  },
  {
   "cell_type": "code",
   "execution_count": 9,
   "metadata": {},
   "outputs": [
    {
     "data": {
      "text/plain": [
       "False"
      ]
     },
     "execution_count": 9,
     "metadata": {},
     "output_type": "execute_result"
    }
   ],
   "source": [
    "solution(\"{(A + B} * C)\")"
   ]
  }
 ],
 "metadata": {
  "kernelspec": {
   "display_name": "Python 3",
   "language": "python",
   "name": "python3"
  },
  "language_info": {
   "codemirror_mode": {
    "name": "ipython",
    "version": 3
   },
   "file_extension": ".py",
   "mimetype": "text/x-python",
   "name": "python",
   "nbconvert_exporter": "python",
   "pygments_lexer": "ipython3",
   "version": "3.6.8"
  }
 },
 "nbformat": 4,
 "nbformat_minor": 4
}
