{
 "cells": [
  {
   "cell_type": "markdown",
   "metadata": {},
   "source": [
    "참고 자료\n",
    "- https://velog.io/@janeljs/python-for-coding-test"
   ]
  },
  {
   "cell_type": "code",
   "execution_count": 1,
   "metadata": {},
   "outputs": [
    {
     "data": {
      "text/plain": [
       "123.46"
      ]
     },
     "execution_count": 1,
     "metadata": {},
     "output_type": "execute_result"
    }
   ],
   "source": [
    "round(123.456, 2)"
   ]
  },
  {
   "cell_type": "code",
   "execution_count": 2,
   "metadata": {},
   "outputs": [
    {
     "data": {
      "text/plain": [
       "[0, 0, 0, 0, 0]"
      ]
     },
     "execution_count": 2,
     "metadata": {},
     "output_type": "execute_result"
    }
   ],
   "source": [
    "List = [0]*5\n",
    "List"
   ]
  },
  {
   "cell_type": "markdown",
   "metadata": {},
   "source": [
    "### 리스트 컴프리헨션"
   ]
  },
  {
   "cell_type": "code",
   "execution_count": 4,
   "metadata": {},
   "outputs": [
    {
     "name": "stdout",
     "output_type": "stream",
     "text": [
      "[[0, 0, 0], [0, 0, 0], [0, 0, 0], [0, 0, 0]]\n"
     ]
    }
   ],
   "source": [
    "n = 4\n",
    "m = 3\n",
    "array = [[0]*m for _ in range(n)]\n",
    "print(array)"
   ]
  },
  {
   "cell_type": "code",
   "execution_count": 8,
   "metadata": {},
   "outputs": [
    {
     "name": "stdout",
     "output_type": "stream",
     "text": [
      "0 0 0 \n",
      "0 0 0 \n",
      "0 0 0 \n",
      "0 0 0 \n"
     ]
    }
   ],
   "source": [
    "for x in array:\n",
    "    for y in x:\n",
    "        print(y, end = \" \")\n",
    "    print()"
   ]
  },
  {
   "cell_type": "markdown",
   "metadata": {},
   "source": [
    "### 리스트 메서드\n",
    "- 변수명.append() / 리스트에 원소 삽입 / O(1)\n",
    "- 변수명.sort() / 오름차순 정렬 / O(NlogN)\n",
    "- 변수명.sort(reverse = True) / 내림차순 정렬 / O(NlogN)\n",
    "- 변수명.reverse() / 원래 원소의 순서를 뒤집어 놓음 / O(N)\n",
    "- 변수명.insert(인덱스, 삽입할 값) / 지정한 위치에 원소 삽입 / O(N)\n",
    "- 변수명.count(특정 값) / 특정한 값을 가지는 데이터 개수 / O(N)\n",
    "- 변수명.remove(특정 값) / 특정한 값을 갖는 원소 제거 / O(N)"
   ]
  },
  {
   "cell_type": "code",
   "execution_count": 45,
   "metadata": {},
   "outputs": [
    {
     "data": {
      "text/plain": [
       "[1, 1]"
      ]
     },
     "execution_count": 45,
     "metadata": {},
     "output_type": "execute_result"
    }
   ],
   "source": [
    "# remove() 시간 복잡도가 O(N)이므로 특정한 값을 가진 원소를 모두 제거하고 싶을 때는 아래 방법을 따르자\n",
    "data = [1,2,1,6,6,6]\n",
    "remove_set = {2,6}\n",
    "[x for x in data if x not in remove_set]"
   ]
  },
  {
   "cell_type": "markdown",
   "metadata": {},
   "source": [
    "### dictionary 자료형\n",
    "- 내부적으로 hash table 이용\n",
    "    - 데이터의 검색 및 수정에 O(1)이 소요\n",
    "- 키 또는 데이터 값 반환"
   ]
  },
  {
   "cell_type": "code",
   "execution_count": 48,
   "metadata": {},
   "outputs": [
    {
     "data": {
      "text/plain": [
       "{'사탕': 'Candy', '젤리': 'Jelly'}"
      ]
     },
     "execution_count": 48,
     "metadata": {},
     "output_type": "execute_result"
    }
   ],
   "source": [
    "data = dict()\n",
    "data['사탕'] = 'Candy'\n",
    "data['젤리'] = 'Jelly'\n",
    "data"
   ]
  },
  {
   "cell_type": "code",
   "execution_count": 50,
   "metadata": {},
   "outputs": [
    {
     "name": "stdout",
     "output_type": "stream",
     "text": [
      "dict_keys(['사탕', '젤리'])\n",
      "dict_values(['Candy', 'Jelly'])\n"
     ]
    }
   ],
   "source": [
    "print(data.keys())\n",
    "print(data.values())"
   ]
  },
  {
   "cell_type": "markdown",
   "metadata": {},
   "source": [
    "### Set 자료형\n",
    "- 리스트나 튜플 자료형과는 다르게 순서가 없기 때문에 인덱싱으로 값을 얻을 수 없음\n",
    "- 특정 데이터가 이미 등장한 적이 있는지를 체크할 때 효과적\n",
    "- dictionary와 마찬가지로 hash table 기반으로 구현"
   ]
  },
  {
   "cell_type": "code",
   "execution_count": 53,
   "metadata": {},
   "outputs": [
    {
     "name": "stdout",
     "output_type": "stream",
     "text": [
      "{1, 2, 3, 5, 6, 8, 9, 10}\n",
      "{9, 10}\n",
      "{1, 2, 6}\n"
     ]
    }
   ],
   "source": [
    "a = set([1,2,6,9,10])\n",
    "b = set([3,5,9,10,8])\n",
    "print(a | b)\n",
    "print(a & b)\n",
    "print(a - b)"
   ]
  },
  {
   "cell_type": "markdown",
   "metadata": {},
   "source": [
    "### 집합 메서드\n",
    "- 변수명.add(삽입할 원소) / 집합에 원소 삽입 / O(1)\n",
    "- 변수명.update(삽입할 원소) / 여러개의 값 한 번에 추가\n",
    "- 변수명.remove(특정 값) / 특정한 값 제거 / O(1)"
   ]
  },
  {
   "cell_type": "code",
   "execution_count": 66,
   "metadata": {},
   "outputs": [
    {
     "data": {
      "text/plain": [
       "{1, 2, 3, 4, 5}"
      ]
     },
     "execution_count": 66,
     "metadata": {},
     "output_type": "execute_result"
    }
   ],
   "source": [
    "# add()\n",
    "data = {1,2,3,4}\n",
    "data.add(5)\n",
    "data"
   ]
  },
  {
   "cell_type": "code",
   "execution_count": 63,
   "metadata": {},
   "outputs": [
    {
     "data": {
      "text/plain": [
       "{1, 2, 3, 4, 7, 8, 9}"
      ]
     },
     "execution_count": 63,
     "metadata": {},
     "output_type": "execute_result"
    }
   ],
   "source": [
    "# update()\n",
    "data = {1,2,3,4}\n",
    "data.update([7,8,9])\n",
    "data"
   ]
  },
  {
   "cell_type": "code",
   "execution_count": 65,
   "metadata": {},
   "outputs": [
    {
     "data": {
      "text/plain": [
       "{1, 2, 3}"
      ]
     },
     "execution_count": 65,
     "metadata": {},
     "output_type": "execute_result"
    }
   ],
   "source": [
    "# remove()\n",
    "data = {1,2,3,4}\n",
    "data.remove(4)\n",
    "data"
   ]
  },
  {
   "cell_type": "markdown",
   "metadata": {},
   "source": [
    "### 람다 표현식\n",
    "- lambda 매개변수1, 매개변수2, ..."
   ]
  },
  {
   "cell_type": "code",
   "execution_count": 68,
   "metadata": {},
   "outputs": [
    {
     "name": "stdout",
     "output_type": "stream",
     "text": [
      "8\n"
     ]
    }
   ],
   "source": [
    "print((lambda a, b: a + b)(3,5))"
   ]
  },
  {
   "cell_type": "code",
   "execution_count": 74,
   "metadata": {},
   "outputs": [
    {
     "data": {
      "text/plain": [
       "9"
      ]
     },
     "execution_count": 74,
     "metadata": {},
     "output_type": "execute_result"
    }
   ],
   "source": [
    "# 2차원 배열에서 열의 두 번째 값이 가장 큰 원소를 찾고,\n",
    "# 그 값이 3번째 값 반환\n",
    "arr = [[1,2,9],[8,5,6],[7,8,9]]\n",
    "max(arr, key = lambda x : x[1])[2]"
   ]
  },
  {
   "cell_type": "code",
   "execution_count": 76,
   "metadata": {},
   "outputs": [
    {
     "data": {
      "text/plain": [
       "'Jiseob'"
      ]
     },
     "execution_count": 76,
     "metadata": {},
     "output_type": "execute_result"
    }
   ],
   "source": [
    "# 길이가 가장 긴 문자 찾기\n",
    "names = ['Jane', 'Jisun', 'Jiseob']\n",
    "longest_name = max(names, key = lambda x : len(x))\n",
    "longest_name"
   ]
  },
  {
   "cell_type": "code",
   "execution_count": 85,
   "metadata": {},
   "outputs": [
    {
     "data": {
      "text/plain": [
       "[{'key': 5}, {'key': 7}, {'key': 8}, {'key': 10}]"
      ]
     },
     "execution_count": 85,
     "metadata": {},
     "output_type": "execute_result"
    }
   ],
   "source": [
    "# keys 리스트를 'key'들의 value를 기준으로 정렬\n",
    "keys = [{'key': 5}, {'key': 10}, {'key': 7}, {'key': 8}]\n",
    "keys.sort(key = lambda x : x['key'])\n",
    "keys"
   ]
  },
  {
   "cell_type": "code",
   "execution_count": 88,
   "metadata": {},
   "outputs": [
    {
     "data": {
      "text/plain": [
       "[('dave', 'B', 10), ('jane', 'B', 12), ('john', 'A', 15)]"
      ]
     },
     "execution_count": 88,
     "metadata": {},
     "output_type": "execute_result"
    }
   ],
   "source": [
    "# 나이를 기준으로 정렬\n",
    "student_tuples = [\n",
    "     ('john', 'A', 15),\n",
    "     ('jane', 'B', 12),\n",
    "     ('dave', 'B', 10),\n",
    "]\n",
    "sorted(student_tuples, key = lambda x : x[2])"
   ]
  },
  {
   "cell_type": "code",
   "execution_count": null,
   "metadata": {},
   "outputs": [],
   "source": []
  }
 ],
 "metadata": {
  "kernelspec": {
   "display_name": "Python 3",
   "language": "python",
   "name": "python3"
  },
  "language_info": {
   "codemirror_mode": {
    "name": "ipython",
    "version": 3
   },
   "file_extension": ".py",
   "mimetype": "text/x-python",
   "name": "python",
   "nbconvert_exporter": "python",
   "pygments_lexer": "ipython3",
   "version": "3.6.8"
  }
 },
 "nbformat": 4,
 "nbformat_minor": 4
}
