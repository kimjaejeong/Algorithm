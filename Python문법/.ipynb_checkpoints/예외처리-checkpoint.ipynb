{
 "cells": [
  {
   "cell_type": "markdown",
   "metadata": {},
   "source": [
    "## 예외(Exception)이란?\n",
    "- 프로그램의 제어 흐름을 조정하기 위해 사용하는 이벤트\n",
    "- 처리를 하지 않는 예외에 대하여 자동으로 에러가 발생하고 프로그램을 종료\n",
    "- 처리되지 않은 예외\n",
    "    - '0'으로 나누는 경우\n",
    "    - 원격에 있는 데이터베이스 접속 시 연결되지 않는 경우\n",
    "    - 파일을 열었는데 사용자에 의해서 삭제된 경우\n",
    "   "
   ]
  },
  {
   "cell_type": "markdown",
   "metadata": {},
   "source": [
    "#### 구문 에러\n",
    "- 오타, 들여쓰기의 실수로 발생\n",
    "- 인터프리터에서 에러가 의심되는 부분을 개발자에게 알려줌"
   ]
  },
  {
   "cell_type": "markdown",
   "metadata": {},
   "source": [
    "### 예외 종료\n",
    "- NameError: 선언하지 않은 변수 'a'에 접근\n",
    "- ZeroDivisionError: '0'으로 나눔\n",
    "- IndexError: 리스트의 접근 가능한 인덱스를 넣음\n",
    "- TypeError: 지원하지 않는 연산(정수를 문자열로 나눔)"
   ]
  },
  {
   "cell_type": "markdown",
   "metadata": {},
   "source": [
    "### 내장 예외 클래스 계층구조\n",
    "- 내장 예외는 exceptions 모듈에 미리 정의\n",
    "- 주요 내장 예외\n",
    "    - Exception: 모든 내장 예외의 기본 클래스\n",
    "        - 사용자 정의 예외를 작성 시 활용\n",
    "    - ArithmeticError: 수치 연산 예외의 기본 클래스\n",
    "    - LookupError: 시퀀스 관련 예외의 기본 클래스\n",
    "    - EnvironmentError: 파이썬 외부 에러의 기본 클래스"
   ]
  },
  {
   "cell_type": "code",
   "execution_count": 3,
   "metadata": {},
   "outputs": [
    {
     "name": "stdout",
     "output_type": "stream",
     "text": [
      "모든 인자는 숫자여야 합니다.\n",
      "항상 이 구문은 수행됩니다.\n"
     ]
    }
   ],
   "source": [
    "def divide(a,b):\n",
    "    return a/b\n",
    "try:\n",
    "    c = divide(5,2)\n",
    "except ZeroDivisionError:\n",
    "    print(\"두번째 인자는 0이면 안됩니다.\")\n",
    "except TypeError:\n",
    "    print(\"모든 인자는 숫자여야 합니다.\")\n",
    "except:\n",
    "    print(\"ZeroDivisionError, TypeError 외 다른 에러\")\n",
    "else: # 예외가 발생하지 않는 경우\n",
    "    print(c)\n",
    "finally: # 예외 발생 유무와 상관없이 수행\n",
    "    print(\"항상 이 구문은 수행됩니다.\")"
   ]
  },
  {
   "cell_type": "code",
   "execution_count": null,
   "metadata": {},
   "outputs": [],
   "source": []
  }
 ],
 "metadata": {
  "kernelspec": {
   "display_name": "Python 3",
   "language": "python",
   "name": "python3"
  },
  "language_info": {
   "codemirror_mode": {
    "name": "ipython",
    "version": 3
   },
   "file_extension": ".py",
   "mimetype": "text/x-python",
   "name": "python",
   "nbconvert_exporter": "python",
   "pygments_lexer": "ipython3",
   "version": "3.6.8"
  }
 },
 "nbformat": 4,
 "nbformat_minor": 4
}
