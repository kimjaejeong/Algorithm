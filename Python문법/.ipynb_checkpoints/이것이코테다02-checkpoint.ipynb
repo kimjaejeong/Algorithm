{
 "cells": [
  {
   "cell_type": "markdown",
   "metadata": {},
   "source": [
    "참고자료\n",
    "https://velog.io/@janeljs/python-for-coding-test-4 부터 진행"
   ]
  },
  {
   "cell_type": "markdown",
   "metadata": {},
   "source": [
    "### list(map(int, input().split()))\n",
    "- list(map(int, input().split()))\n",
    "- → input()으로 입력 받은 문자열을\n",
    "- → split()을 이용하여 띄어쓰기를 기준으로 나눈 리스트로 바꾼뒤,\n",
    "- → map()을 이용하여 해당 리스트의 모든 원소를 정수로 바꾼 결과를\n",
    "- → list()를 이용하여 다시 리스트로 변환한다."
   ]
  },
  {
   "cell_type": "markdown",
   "metadata": {},
   "source": [
    "### sys.stdin.readline()\n",
    "- sys는 System-specific parameters and functions"
   ]
  },
  {
   "cell_type": "code",
   "execution_count": null,
   "metadata": {},
   "outputs": [],
   "source": [
    "import sys\n",
    "data = sys.stdin.readline().rstrip()"
   ]
  },
  {
   "cell_type": "markdown",
   "metadata": {},
   "source": [
    "## 표준 라이브러리\n",
    "- Built-in-Functions: 기본 내장 라이브러리\n",
    "- itertools: 반복되는 데이터를 처리하는 기능을 제공하는 라이브러리. 순열과 조합 라이브러리 제공\n",
    "- heapq: 힙 기능 제공 라이브러리, 우선순위 큐 구현에 사용\n",
    "- bisect: 이진 탐색 기능을 제공하는 라이브러리\n",
    "- collections: deque, Counter 등의 자료구조를 포함하고 있는 라이브러리\n",
    "- math: \t필수적인 수학적 기능을 제공하는 라이브러리 / 팩토리얼, 제곱근, 최대공약수, 삼각함수 관련 메서드, pi 등의 상수 포함"
   ]
  },
  {
   "cell_type": "code",
   "execution_count": 9,
   "metadata": {},
   "outputs": [
    {
     "data": {
      "text/plain": [
       "5000"
      ]
     },
     "execution_count": 9,
     "metadata": {},
     "output_type": "execute_result"
    }
   ],
   "source": [
    "eval(\"100*50\")"
   ]
  },
  {
   "cell_type": "markdown",
   "metadata": {},
   "source": [
    "### itertools"
   ]
  },
  {
   "cell_type": "code",
   "execution_count": 17,
   "metadata": {},
   "outputs": [
    {
     "data": {
      "text/plain": [
       "[('사과', '바나나'),\n",
       " ('사과', '딸기'),\n",
       " ('바나나', '사과'),\n",
       " ('바나나', '딸기'),\n",
       " ('딸기', '사과'),\n",
       " ('딸기', '바나나')]"
      ]
     },
     "execution_count": 17,
     "metadata": {},
     "output_type": "execute_result"
    }
   ],
   "source": [
    "from itertools import permutations\n",
    "# permutations는 클래스이기 때문에 객체 초기화 이후에는 list로 변환하여 사용해야 한다.\n",
    "fruits = ['사과', '바나나', '딸기']\n",
    "list(permutations(fruits, 2)) "
   ]
  },
  {
   "cell_type": "code",
   "execution_count": 18,
   "metadata": {},
   "outputs": [
    {
     "data": {
      "text/plain": [
       "[('사과', '바나나'), ('사과', '딸기'), ('바나나', '딸기')]"
      ]
     },
     "execution_count": 18,
     "metadata": {},
     "output_type": "execute_result"
    }
   ],
   "source": [
    "from itertools import combinations\n",
    "fruits = ['사과', '바나나', '딸기']\n",
    "list(combinations(fruits, 2))"
   ]
  },
  {
   "cell_type": "code",
   "execution_count": 22,
   "metadata": {},
   "outputs": [
    {
     "data": {
      "text/plain": [
       "[('사과', '사과'),\n",
       " ('사과', '바나나'),\n",
       " ('사과', '딸기'),\n",
       " ('바나나', '사과'),\n",
       " ('바나나', '바나나'),\n",
       " ('바나나', '딸기'),\n",
       " ('딸기', '사과'),\n",
       " ('딸기', '바나나'),\n",
       " ('딸기', '딸기')]"
      ]
     },
     "execution_count": 22,
     "metadata": {},
     "output_type": "execute_result"
    }
   ],
   "source": [
    "from itertools import product\n",
    "# iterable 객체에서 r개의 데이터를 뽑아 일렬로 나열하는 모든 경우를 계산(단, 원소를 중복하여 뽑음)\n",
    "fruits = ['사과', '바나나', '딸기']\n",
    "list(product(fruits, repeat = 2))"
   ]
  },
  {
   "cell_type": "code",
   "execution_count": 24,
   "metadata": {},
   "outputs": [
    {
     "data": {
      "text/plain": [
       "[('사과', '사과'),\n",
       " ('사과', '바나나'),\n",
       " ('사과', '딸기'),\n",
       " ('바나나', '바나나'),\n",
       " ('바나나', '딸기'),\n",
       " ('딸기', '딸기')]"
      ]
     },
     "execution_count": 24,
     "metadata": {},
     "output_type": "execute_result"
    }
   ],
   "source": [
    "from itertools import combinations_with_replacement\n",
    "# iterable 객체에서 r개의 데이터를 뽑아 순서를 고려하지 않고 나열하는 모든 경우를 계산(단, 원소를 중복하여 뽑음)\n",
    "fruits = ['사과', '바나나', '딸기']\n",
    "list(combinations_with_replacement(fruits, 2))"
   ]
  },
  {
   "cell_type": "markdown",
   "metadata": {},
   "source": [
    "### heapq\n",
    "- 힙 기능을 위한 표준 라이브러리\n",
    "    - 다익스트라 최단 알고리즘 등 우선순위 큐 기능을 구현할 때 사용\n",
    "    - 코딩테스트 환경에서는 heapq가 PriorityQueue 라이브러리보다 빠르게 동작\n",
    "    - heapq.heappush(): 원소 삽입\n",
    "    - heapq.heappop(): 원소 삭제"
   ]
  },
  {
   "cell_type": "markdown",
   "metadata": {},
   "source": [
    "### 힙 정렬(heap sort)\n",
    "- 힙 정렬은 max heap이나 min heap 트리를 이용한 정렬 방식으로 내림차순 정렬을 위해서는 max heap이, 오름차순 정렬을 위해서는 min heap이 사용된다."
   ]
  },
  {
   "cell_type": "markdown",
   "metadata": {},
   "source": [
    "- 오름차순 정렬\n",
    "    - 파이썬에는 최소 힙(Min Heap)이 구현되어 있기 때문에 원소를 힙에 전부 삽입했다가 제거함으로써 오름차순으로 정렬 할 수 있다. O(NlogN)\n",
    "    - 1. 모든 원소를 차례대로 heap에 삽입한다.\n",
    "    - 2. 힙에 삽입된 모든 원소를 차례대로 result에 담는다."
   ]
  },
  {
   "cell_type": "code",
   "execution_count": 26,
   "metadata": {},
   "outputs": [
    {
     "name": "stdout",
     "output_type": "stream",
     "text": [
      "[0, 1, 6, 7, 8, 9]\n"
     ]
    }
   ],
   "source": [
    "import heapq\n",
    "\n",
    "def heapsort(iterable):\n",
    "    heap = []\n",
    "    result = []\n",
    "    for value in iterable:\n",
    "        heapq.heappush(heap,value)\n",
    "    for i in range(len(heap)):\n",
    "        result.append(heapq.heappop(heap))\n",
    "    return result\n",
    "\n",
    "result = heapsort([1,9,0,7,8,6])\n",
    "print(result)"
   ]
  },
  {
   "cell_type": "markdown",
   "metadata": {},
   "source": [
    "- 내림차순 정렬\n",
    "    - 파이썬에는 최대 힙(Max Heap)이 구현되어 있지 않기 때문에 내림차순 정렬을 위해서는 부호를 바꾼 뒤 최소 힙을 이용하여 정렬하고 다시 부호를 바꿔주어야 한다.\n",
    "    - 1. 모든 원소에 -를 붙인 값을 heap에 삽입한다.\n",
    "    - 2. heap의 원소를 꺼낸 뒤 다시 -를 붙여 result에 담는다."
   ]
  },
  {
   "cell_type": "code",
   "execution_count": 33,
   "metadata": {},
   "outputs": [
    {
     "name": "stdout",
     "output_type": "stream",
     "text": [
      "[9]\n",
      "[9, 8]\n",
      "[9, 8, 7]\n",
      "[9, 8, 7, 6]\n",
      "[9, 8, 7, 6, 1]\n",
      "[9, 8, 7, 6, 1, 0]\n",
      "[9, 8, 7, 6, 1, 0]\n"
     ]
    }
   ],
   "source": [
    "def heapsort(iterable):\n",
    "    heap = []\n",
    "    result = []\n",
    "    for value in iterable:\n",
    "        heapq.heappush(heap, -value)\n",
    "    for i in range(len(heap)):\n",
    "        result.append(-heapq.heappop(heap))\n",
    "        print(result)\n",
    "    return result\n",
    "\n",
    "result = heapsort([1,9,0,7,8,6])\n",
    "print(result)"
   ]
  },
  {
   "cell_type": "markdown",
   "metadata": {},
   "source": [
    "### bisect\n",
    "- 이진 탐색(Binary Search) 기능을 제공하는 표준 라이브러리\n",
    "    - 정렬된 배열에서 특정한 원소를 찾아야 할 때 사용\n",
    "- bisect_left(a, x): 정렬된 순서를 유지하면서 리스트 a에 데이터 x를 삽입할 가장 왼쪽 인덱스를 찾는 메서드\n",
    "- bisect_right(a, x): 정렬된 순서를 유지하도록 리스트 a에 데이터 x를 삽입할 가장 오른쪽 인덱스를 찾는 메서드\n",
    "- → 두 메서드 모두 시간 복잡도 O(logN)에 작동한다."
   ]
  },
  {
   "cell_type": "code",
   "execution_count": 35,
   "metadata": {},
   "outputs": [
    {
     "name": "stdout",
     "output_type": "stream",
     "text": [
      "2\n",
      "5\n"
     ]
    }
   ],
   "source": [
    "from bisect import bisect_left, bisect_right\n",
    "\n",
    "a = [1, 2, 3, 3, 3, 5, 5, 7]\n",
    "print(bisect_left(a, 3))\n",
    "print(bisect_right(a,3))"
   ]
  },
  {
   "cell_type": "code",
   "execution_count": 41,
   "metadata": {},
   "outputs": [
    {
     "name": "stdout",
     "output_type": "stream",
     "text": [
      "3\n",
      "3\n",
      "6\n"
     ]
    }
   ],
   "source": [
    "# 값이 특정 범위에 속하는 원소의 개수 구하기\n",
    "a = [1, 2, 3, 3, 3, 5, 5, 7]\n",
    "def count_by_range(a, left_value, right_value):\n",
    "    right_idx = bisect_right(a, right_value)\n",
    "    left_idx = bisect_left(a, left_value)\n",
    "    return right_idx - left_idx\n",
    "\n",
    "print(count_by_range(a,3,3))  # 3의 개수\n",
    "print(a.count(3))\n",
    "print(count_by_range(a,2,5)) # 2이상 5이하의 수"
   ]
  },
  {
   "cell_type": "markdown",
   "metadata": {},
   "source": [
    "### Collections\n",
    "- deque, Counter 등 유용한 자료구조를 제공하는 표준 라이브러리\n",
    "- deque: 양쪽 끝에서 빠르게 추가(append)와 삭제(pop)를 할 수 있는 리스트류 컨테이너\n",
    "- Counter: hashable object를 세는 데 사용하는 딕셔너리 서브 클래스, element는 dictionary key로 저장되고, 개수는 dictionary value로 저장된다."
   ]
  },
  {
   "cell_type": "markdown",
   "metadata": {},
   "source": [
    "#### deque\n",
    "- 파이썬에서는 queue를 구현할 때 보통 deque를 이용한다.\n",
    "- 리스트와 다르게 인덱싱, 슬라이싱이 불가하다.\n",
    "- 시작 또는 끝 부분에 데이터를 삽입하거나 삭제할 때 효과적이다.\n",
    "- 스택이나 큐의 기능을 모두 갖추고 있기 때문에 스택이나 큐 대용으로 사용될 수 있다.\n",
    "    - 큐로 이용하고 싶은 경우 삽입 시에는 append(), 삭제 시에는 popleft()를 사용하면 된다.\n",
    "- 메서드\n",
    "    - pop(): 마지막 원소를 제거한 뒤 반환\n",
    "    - popleft(): 첫 번째 원소를 제거한 뒤 반환\n",
    "    - append(x): deque 오른쪽에 x 삽입\n",
    "    - appendleft(x): deque 왼쪽에 x 삽입\n",
    "    - clear(): deque의 모든 원소 제거\n",
    "    - copy(): deque의 shallow copy 생성\n",
    "    - count(x): x와 같은 deque element의 수 계산"
   ]
  },
  {
   "cell_type": "code",
   "execution_count": null,
   "metadata": {},
   "outputs": [],
   "source": []
  }
 ],
 "metadata": {
  "kernelspec": {
   "display_name": "Python 3",
   "language": "python",
   "name": "python3"
  },
  "language_info": {
   "codemirror_mode": {
    "name": "ipython",
    "version": 3
   },
   "file_extension": ".py",
   "mimetype": "text/x-python",
   "name": "python",
   "nbconvert_exporter": "python",
   "pygments_lexer": "ipython3",
   "version": "3.6.8"
  }
 },
 "nbformat": 4,
 "nbformat_minor": 4
}
